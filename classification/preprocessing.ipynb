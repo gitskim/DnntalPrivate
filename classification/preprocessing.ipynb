{
 "cells": [
  {
   "cell_type": "code",
   "execution_count": 1,
   "metadata": {},
   "outputs": [
    {
     "name": "stderr",
     "output_type": "stream",
     "text": [
      "/anaconda3/lib/python3.6/site-packages/h5py/__init__.py:36: FutureWarning: Conversion of the second argument of issubdtype from `float` to `np.floating` is deprecated. In future, it will be treated as `np.float64 == np.dtype(float).type`.\n",
      "  from ._conv import register_converters as _register_converters\n",
      "Using TensorFlow backend.\n"
     ]
    }
   ],
   "source": [
    "#import dependencies\n",
    "#%matplotlib inline\n",
    "import os\n",
    "import numpy as np\n",
    "import imageio\n",
    "import matplotlib.pyplot as plt\n",
    "import pandas as pd\n",
    "import torch\n",
    "from torch.utils import data\n",
    "import zipfile\n",
    "import random as rd\n",
    "import cv2\n",
    "\n",
    "# --- get data ---\n",
    "\n",
    "# !wget https://storage.googleapis.com/dentist_ai/dentist_AI.zip\\\n",
    "#     -O /tmp/dentist_AI.zip\n",
    "\n",
    "# local_zip = '/tmp/dentist_AI.zip'\n",
    "# zip_ref = zipfile.ZipFile(local_zip, 'r')\n",
    "\n",
    "# zip_ref.extractall('/tmp/dentist_AI')\n",
    "\n",
    "# zip_ref.close()\n",
    "\n",
    "\n",
    "#main path\n",
    "\n",
    "#train_path = '/Users/arielcohencodar/Desktop/These_Phoebe/src/Dataset/dentist_AI/original/'\n",
    "\n",
    "\n",
    "#For the preprocessing\n",
    "import sys\n",
    "from tqdm import tqdm\n",
    "from keras.preprocessing.image import ImageDataGenerator, array_to_img, img_to_array, load_img\n",
    "from skimage.transform import resize\n",
    "from PIL import Image\n",
    "\n",
    "import glob\n",
    "filelist_xrays = glob.glob(os.path.join('/Users/arielcohencodar/Desktop/These_Phoebe/src/Dataset/dentist_AI/original/xrays/', '*.jpg'))\n",
    "filelist_xrays=sorted(filelist_xrays)\n",
    "filelist_masks = glob.glob(os.path.join('/Users/arielcohencodar/Desktop/These_Phoebe/src/Dataset/dentist_AI/original/masks/', '*.jpg'))\n",
    "filelist_masks=sorted(filelist_masks)\n",
    "\n",
    "\n",
    "#CLAHE filter -- Apply contrast for all images\n",
    "\n",
    "resolution=2.0\n",
    "\n",
    "def clahe(path):\n",
    "    clahe = cv2.createCLAHE(clipLimit=resolution, tileGridSize=(16,16))\n",
    "    img=cv2.imread(path, 0)\n",
    "    cv2.imwrite(path, clahe.apply(img))\n",
    "\n",
    "for path_xrays in filelist_xrays:\n",
    "    clahe(path_xrays)\n",
    "# for path_mask in filelist_masks:\n",
    "#     clahe(path_mask)"
   ]
  },
  {
   "cell_type": "code",
   "execution_count": 15,
   "metadata": {},
   "outputs": [],
   "source": [
    "#Cropping the images\n",
    "\n",
    "im_width = 256\n",
    "im_height = 256\n",
    "\n",
    "#-->Function to crop and save\n",
    "def crop(image_path, coords, saved_location, isMask=False):\n",
    "    '''\n",
    "    @param image_path: The path to the image to edit\n",
    "    @param coords: A tuple of x/y coordinates (x1, y1, x2, y2)\n",
    "    @param saved_location: Path to save the cropped image\n",
    "    '''\n",
    "    image_obj = Image.open(image_path)\n",
    "    cropped_image = image_obj.crop(coords)\n",
    "    if isMask or image_obj.mode == 'I':\n",
    "        plt.imshow(cropped_image)\n",
    "        cropped_image = cropped_image.convert(\"L\")\n",
    "    cropped_image.save(saved_location)\n",
    "\n",
    "#Function to see is the image should be classify positive or negative\n",
    "def ispositive(path):\n",
    "    img=load_img(path, grayscale=True)\n",
    "    arr=img_to_array(img)\n",
    "  \n",
    "    np_array = np.asarray(arr)\n",
    "    copy = np.copy(np_array)\n",
    "    # creating a all white array \n",
    "    all_black = copy.fill(0)\n",
    "    \n",
    "    return np.array_equal(np_array, all_black)"
   ]
  },
  {
   "cell_type": "code",
   "execution_count": 16,
   "metadata": {},
   "outputs": [
    {
     "data": {
      "image/png": "[encoded data removed]",
      "text/plain": [
       "<Figure size 432x288 with 1 Axes>"
      ]
     },
     "metadata": {},
     "output_type": "display_data"
    }
   ],
   "source": [
    "#cropping the original panoramics and the masks, classifying the masks to create positive and negative folders of cropped_panoramic\n",
    "for i, path_xray in enumerate(filelist_xrays):\n",
    "    \n",
    "    im = Image.open(path_xray)\n",
    "    width, height = im.size\n",
    "    \n",
    "    #Center and finding a white pixel\n",
    "    path_mask=filelist_masks[i]\n",
    "    mask_array=np.array(Image.open(path_mask))/255\n",
    "    y=np.where(mask_array!=0)[0][0]\n",
    "    x=np.where(mask_array!=0)[1][0]\n",
    "\n",
    "    if i<50:\n",
    "        for k in range(50):\n",
    "            x=x+rd.randint(-256,0)#Center in a white pixel\n",
    "            y=y+rd.randint(-256,0)#Center in a white pixel\n",
    "            crop(path_xray, (x, y, x+im_width, y+im_height), '/Users/arielcohencodar/Desktop/These_Phoebe/src/Dataset/dentist_AI/cropped0/train/file'+str(i)+'_'+str(k)+'.jpg')\n",
    "            crop(path_mask, (x, y, x+im_width, y+im_height), '/Users/arielcohencodar/Desktop/These_Phoebe/src/Dataset/dentist_AI/cropped0/masks/file'+str(i)+'_'+str(k)+'.jpg')\n",
    "            break\n",
    "            if ispositive('/Users/arielcohencodar/Desktop/These_Phoebe/src/Dataset/dentist_AI/cropped0/masks/file'+str(i)+'_'+str(k)+'.jpg'):\n",
    "                Image.open('/Users/arielcohencodar/Desktop/These_Phoebe/src/Dataset/dentist_AI/cropped0/masks/file'+str(i)+'_'+str(k)+'.jpg').save('/Users/arielcohencodar/Desktop/These_Phoebe/src/Dataset/dentist_AI/cropped/train/cropped_positive_xrays/file'+str(i)+'_'+str(k)+'.jpg')\n",
    "            else:\n",
    "                Image.open('/Users/arielcohencodar/Desktop/These_Phoebe/src/Dataset/dentist_AI/cropped0/masks/file'+str(i)+'_'+str(k)+'.jpg').save('/Users/arielcohencodar/Desktop/These_Phoebe/src/Dataset/dentist_AI/cropped/train/cropped_negative_xrays/file'+str(i)+'_'+str(k)+'.jpg')\n",
    "        break\n",
    "\n",
    "    if i>=50:\n",
    "        for k in range(50):\n",
    "            x=x+rd.randint(-256,0)#Center in a white pixel\n",
    "            y=y+rd.randint(-256,0)#Center in a white pixel\n",
    "            crop(path_original, (x, y, x+im_width, y+im_height), '/Users/arielcohencodar/Desktop/These_Phoebe/src/Dataset/dentist_AI/cropped0/train/file'+str(i)+'_'+str(k)+'.jpg')\n",
    "            crop(path_mask, (x, y, x+im_width, y+im_height), '/Users/arielcohencodar/Desktop/These_Phoebe/src/Dataset/dentist_AI/cropped0/masks/file'+str(i)+'_'+str(k)+'.jpg')\n",
    "\n",
    "            if ispositive('/Users/arielcohencodar/Desktop/These_Phoebe/src/Dataset/dentist_AI/cropped0/masks/file'+str(i)+'_'+str(k)+'.jpg'):\n",
    "                Image.open('/Users/arielcohencodar/Desktop/These_Phoebe/src/Dataset/dentist_AI/cropped0/masks/file'+str(i)+'_'+str(k)+'.jpg').save('/Users/arielcohencodar/Desktop/These_Phoebe/src/Dataset/dentist_AI/cropped/val/cropped_positive_xrays/file'+str(i)+'_'+str(k)+'.jpg')\n",
    "            else:\n",
    "                Image.open('/Users/arielcohencodar/Desktop/These_Phoebe/src/Dataset/dentist_AI/cropped0/masks/file'+str(i)+'_'+str(k)+'.jpg').save('/Users/arielcohencodar/Desktop/These_Phoebe/src/Dataset/dentist_AI/cropped/val/cropped_negative_xrays/file'+str(i)+'_'+str(k)+'.jpg')"
   ]
  },
  {
   "cell_type": "code",
   "execution_count": null,
   "metadata": {},
   "outputs": [],
   "source": []
  }
 ],
 "metadata": {
  "kernelspec": {
   "display_name": "Python 3",
   "language": "python",
   "name": "python3"
  },
  "language_info": {
   "codemirror_mode": {
    "name": "ipython",
    "version": 3
   },
   "file_extension": ".py",
   "mimetype": "text/x-python",
   "name": "python",
   "nbconvert_exporter": "python",
   "pygments_lexer": "ipython3",
   "version": "3.6.8"
  }
 },
 "nbformat": 4,
 "nbformat_minor": 2
}
